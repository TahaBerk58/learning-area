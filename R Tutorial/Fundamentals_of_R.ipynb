{
  "nbformat": 4,
  "nbformat_minor": 0,
  "metadata": {
    "colab": {
      "provenance": [],
      "authorship_tag": "ABX9TyM/Svkes/b0pSWsUHHddU18",
      "include_colab_link": true
    },
    "kernelspec": {
      "name": "ir",
      "display_name": "R"
    },
    "language_info": {
      "name": "R"
    }
  },
  "cells": [
    {
      "cell_type": "markdown",
      "metadata": {
        "id": "view-in-github",
        "colab_type": "text"
      },
      "source": [
        "<a href=\"https://colab.research.google.com/github/TahaBerk58/learning-area/blob/main/R%20Tutorial/Fundamentals_of_R.ipynb\" target=\"_parent\"><img src=\"https://colab.research.google.com/assets/colab-badge.svg\" alt=\"Open In Colab\"/></a>"
      ]
    },
    {
      "cell_type": "markdown",
      "source": [
        "# R Operators"
      ],
      "metadata": {
        "id": "r-4k-mRTyGpv"
      }
    },
    {
      "cell_type": "markdown",
      "source": [
        "### Arithmetic Operations in R\n",
        "- **Vector Definitions**: `vec1` and `vec2` are numeric vectors defined for performing arithmetic operations.\n",
        "- **Addition**: Adds the corresponding elements of two vectors using the `+` operator.\n",
        "- **Subtraction**: Subtracts the elements of the second vector from the first vector using the `-` operator.\n",
        "- **Multiplication**: Multiplies the corresponding elements of two vectors using the `*` operator.\n",
        "- **Division**: Divides the elements of the first vector by the corresponding elements of the second vector using the `/` operator.\n",
        "- **Modulo**: Computes the remainder of division for each pair of elements using the `%%` operator.\n",
        "- **Power Operator**: Raises the elements of the first vector to the power of the corresponding elements in the second vector using the `^` operator.\n",
        "- **Output**: Results of the operations are displayed using the `cat()` function for clear formatting and separation."
      ],
      "metadata": {
        "id": "7dCXf1E8CEQG"
      }
    },
    {
      "cell_type": "code",
      "source": [
        "# R program to illustrate\n",
        "# the use of Arithmetic operators\n",
        "vec1 <- c(0, 2)\n",
        "vec2 <- c(2, 3)\n",
        "\n",
        "# Performing operations on Operands\n",
        "cat (\"Addition of vectors :\", vec1 + vec2, \"\\n\")\n",
        "cat (\"Subtraction of vectors :\", vec1 - vec2, \"\\n\")\n",
        "cat (\"Multiplication of vectors :\", vec1 * vec2, \"\\n\")\n",
        "cat (\"Division of vectors :\", vec1 / vec2, \"\\n\")\n",
        "cat (\"Modulo of vectors :\", vec1 %% vec2, \"\\n\")\n",
        "cat (\"Power operator :\", vec1 ^ vec2)"
      ],
      "metadata": {
        "colab": {
          "base_uri": "https://localhost:8080/"
        },
        "id": "0rAgk7jIyIlW",
        "outputId": "739837a3-7614-4092-c716-1f8600ecc3fc"
      },
      "execution_count": 32,
      "outputs": [
        {
          "output_type": "stream",
          "name": "stdout",
          "text": [
            "Addition of vectors : 2 5 \n",
            "Subtraction of vectors : -2 -1 \n",
            "Multiplication of vectors : 0 6 \n",
            "Division of vectors : 0 0.6666667 \n",
            "Modulo of vectors : 0 2 \n",
            "Power operator : 0 8"
          ]
        }
      ]
    },
    {
      "cell_type": "markdown",
      "source": [
        "### Element-wise Logical OR Operator (`|`) in R\n",
        "- **Operation**: The `|` operator performs an element-wise logical OR operation between two vectors. It returns `TRUE` if either of the corresponding elements in the two vectors is `TRUE`, and `FALSE` otherwise.\n",
        "- **Vectors**:\n",
        "  - `list1 <- c(TRUE, 0.1)` defines a logical vector, where `TRUE` and `0.1` are interpreted as `TRUE` and `TRUE` respectively (non-zero numbers are considered `TRUE` in logical operations).\n",
        "  - `list2 <- c(0, 4+3i)` defines a vector where `0` is considered `FALSE` and any non-zero complex number (`4+3i`) is considered `TRUE`.\n",
        "- **Output**: The result of the logical OR operation is a logical vector indicating whether each pair of corresponding elements in `list1` and `list2` evaluates to `TRUE` or not.\n",
        "\n",
        "The code will output the result of the logical OR between the two vectors element by element."
      ],
      "metadata": {
        "id": "2URPNbIzCLHU"
      }
    },
    {
      "cell_type": "code",
      "source": [
        "# Element-wise Logical OR operator (|)\n",
        "# Returns True if either of the operands is True.\n",
        "list1 <- c(TRUE, 0.1)\n",
        "list2 <- c(0,4+3i)\n",
        "print(list1|list2)"
      ],
      "metadata": {
        "colab": {
          "base_uri": "https://localhost:8080/"
        },
        "id": "AzeVI0Tqzo92",
        "outputId": "4ff054e3-f831-4496-d978-531b7fd63209"
      },
      "execution_count": 33,
      "outputs": [
        {
          "output_type": "stream",
          "name": "stdout",
          "text": [
            "[1] TRUE TRUE\n"
          ]
        }
      ]
    },
    {
      "cell_type": "markdown",
      "source": [
        "### Logical Operators in R\n",
        "- **Vector Definitions**:\n",
        "  - `vec1 <- c(0,2)` defines a numeric vector.\n",
        "  - `vec2 <- c(TRUE,FALSE)` defines a logical vector.\n",
        "\n",
        "- **Element-wise AND (`&`)**: The `&` operator performs a logical AND operation element by element between two vectors. It returns `TRUE` if both elements are `TRUE`, and `FALSE` otherwise.\n",
        "  \n",
        "- **Element-wise OR (`|`)**: The `|` operator performs a logical OR operation element by element between two vectors. It returns `TRUE` if at least one element is `TRUE`, and `FALSE` if both are `FALSE`.\n",
        "\n",
        "- **Logical AND (`&&`)**: The `&&` operator evaluates only the first element of each vector and returns `TRUE` if both are `TRUE`, otherwise `FALSE`. It performs the logical AND operation for single elements, not vectors.\n",
        "\n",
        "- **Logical OR (`||`)**: The `||` operator evaluates only the first element of each vector and returns `TRUE` if at least one of the elements is `TRUE`, otherwise `FALSE`. Like the logical AND, it operates on single elements.\n",
        "\n",
        "- **Negation (`!`)**: The `!` operator inverts the logical values in `vec1`. `TRUE` becomes `FALSE`, and `FALSE` becomes `TRUE`.\n",
        "\n",
        "- **Output**: Each operation's result is displayed using the `cat()` function to show the logical results clearly."
      ],
      "metadata": {
        "id": "yF4Avzb4CRyI"
      }
    },
    {
      "cell_type": "code",
      "source": [
        "# R program to illustrate\n",
        "# the use of Logical operators\n",
        "vec1 <- c(0,2)\n",
        "vec2 <- c(TRUE,FALSE)\n",
        "\n",
        "# Performing operations on Operands\n",
        "cat (\"Element wise AND :\", vec1 & vec2, \"\\n\")\n",
        "cat (\"Element wise OR :\", vec1 | vec2, \"\\n\")\n",
        "cat (\"Logical AND :\", vec1[1] && vec2[1], \"\\n\")\n",
        "cat (\"Logical OR :\", vec1[1] || vec2[1], \"\\n\")\n",
        "cat (\"Negation :\", !vec1)"
      ],
      "metadata": {
        "colab": {
          "base_uri": "https://localhost:8080/"
        },
        "id": "0_q-G9xcz1IP",
        "outputId": "3d5720e8-6047-4334-96eb-79e8fe5ba207"
      },
      "execution_count": 34,
      "outputs": [
        {
          "output_type": "stream",
          "name": "stdout",
          "text": [
            "Element wise AND : FALSE FALSE \n",
            "Element wise OR : TRUE TRUE \n",
            "Logical AND : FALSE \n",
            "Logical OR : TRUE \n",
            "Negation : TRUE FALSE"
          ]
        }
      ]
    },
    {
      "cell_type": "markdown",
      "source": [
        "### Relational Operators in R\n",
        "- **Vector Definitions**:\n",
        "  - `vec1 <- c(0, 2)` defines a numeric vector with two elements: 0 and 2.\n",
        "  - `vec2 <- c(2, 3)` defines another numeric vector with two elements: 2 and 3.\n",
        "\n",
        "- **Relational Operations**:\n",
        "  - **Less than (`<`)**: Compares corresponding elements in `vec1` and `vec2`. It returns `TRUE` if an element in `vec1` is less than the corresponding element in `vec2`, otherwise `FALSE`.\n",
        "  - **Less than or equal to (`<=`)**: Compares the corresponding elements and returns `TRUE` if an element in `vec1` is less than or equal to the corresponding element in `vec2`.\n",
        "  - **Greater than (`>`)**: Compares the corresponding elements and returns `TRUE` if an element in `vec1` is greater than the corresponding element in `vec2`.\n",
        "  - **Greater than or equal to (`>=`)**: Compares the corresponding elements and returns `TRUE` if an element in `vec1` is greater than or equal to the corresponding element in `vec2`.\n",
        "  - **Not equal to (`!=`)**: Compares the corresponding elements and returns `TRUE` if an element in `vec1` is not equal to the corresponding element in `vec2`.\n",
        "\n",
        "- **Output**: Each relational operation is performed and displayed using the `cat()` function to show the results clearly."
      ],
      "metadata": {
        "id": "vUW2TsJBCf9L"
      }
    },
    {
      "cell_type": "code",
      "source": [
        "# R program to illustrate\n",
        "# the use of Relational operators\n",
        "vec1 <- c(0, 2)\n",
        "vec2 <- c(2, 3)\n",
        "\n",
        "# Performing operations on Operands\n",
        "cat (\"Vector1 less than Vector2 :\", vec1 < vec2, \"\\n\")\n",
        "cat (\"Vector1 less than equal to Vector2 :\", vec1 <= vec2, \"\\n\")\n",
        "cat (\"Vector1 greater than Vector2 :\", vec1 > vec2, \"\\n\")\n",
        "cat (\"Vector1 greater than equal to Vector2 :\", vec1 >= vec2, \"\\n\")\n",
        "cat (\"Vector1 not equal to Vector2 :\", vec1 != vec2, \"\\n\")"
      ],
      "metadata": {
        "colab": {
          "base_uri": "https://localhost:8080/"
        },
        "id": "fScta6Ip0DQ9",
        "outputId": "bf986f82-7f9e-433e-fa3c-315894237c82"
      },
      "execution_count": 35,
      "outputs": [
        {
          "output_type": "stream",
          "name": "stdout",
          "text": [
            "Vector1 less than Vector2 : TRUE TRUE \n",
            "Vector1 less than equal to Vector2 : TRUE TRUE \n",
            "Vector1 greater than Vector2 : FALSE FALSE \n",
            "Vector1 greater than equal to Vector2 : FALSE FALSE \n",
            "Vector1 not equal to Vector2 : TRUE TRUE \n"
          ]
        }
      ]
    },
    {
      "cell_type": "markdown",
      "source": [
        "### Assignment Operators in R\n",
        "\n",
        "- **Assignment Operators**:\n",
        "  - **`<-`**: This is the most common assignment operator in R. It assigns the values on the right side to the variable on the left side. For example, `vec1 <- c(2:5)` assigns the vector `c(2, 3, 4, 5)` to `vec1`.\n",
        "  \n",
        "  - **`->`**: This operator is the reverse of `<-`, meaning the value on the left is assigned to the variable on the right. For example, `c(2:5) -> vec2` assigns the vector `c(2, 3, 4, 5)` to `vec2`.\n",
        "\n",
        "  - **`<<-`**: This operator assigns a value to a variable in the global environment, even if the variable exists in a local scope (inside a function, for example). For instance, `vec3 <<- c(2:5)` assigns the vector `c(2, 3, 4, 5)` to `vec3` in the global environment.\n",
        "\n",
        "  - **`=`**: This is another assignment operator, which works similarly to `<-`. For example, `vec4 = c(2:5)` assigns the vector `c(2, 3, 4, 5)` to `vec4`.\n",
        "\n",
        "  - **`->>`**: This operator is a variant of `<<-`, used for assigning values globally in a more explicit manner. For example, `c(2:5) ->> vec5` assigns the vector `c(2, 3, 4, 5)` to `vec5` in the global environment.\n",
        "\n",
        "- **Output**:\n",
        "  - The program prints each vector using `cat()` to display the values stored in `vec1`, `vec2`, `vec3`, `vec4`, and `vec5`.\n"
      ],
      "metadata": {
        "id": "m-hXq-UEDbOK"
      }
    },
    {
      "cell_type": "code",
      "source": [
        "# R program to illustrate\n",
        "# the use of Assignment operators\n",
        "vec1 <- c(2:5)\n",
        "c(2:5) ->> vec2\n",
        "vec3 <<- c(2:5)\n",
        "vec4 = c(2:5)\n",
        "c(2:5) -> vec5\n",
        "\n",
        "# Performing operations on Operands\n",
        "cat (\"vector 1 :\", vec1, \"\\n\")\n",
        "cat(\"vector 2 :\", vec2, \"\\n\")\n",
        "cat (\"vector 3 :\", vec3, \"\\n\")\n",
        "cat(\"vector 4 :\", vec4, \"\\n\")\n",
        "cat(\"vector 5 :\", vec5)"
      ],
      "metadata": {
        "colab": {
          "base_uri": "https://localhost:8080/"
        },
        "id": "80HbfkT-1Cob",
        "outputId": "15fbc2e6-ddc4-48e1-8156-fad46121f088"
      },
      "execution_count": 36,
      "outputs": [
        {
          "output_type": "stream",
          "name": "stdout",
          "text": [
            "vector 1 : 2 3 4 5 \n",
            "vector 2 : 2 3 4 5 \n",
            "vector 3 : 2 3 4 5 \n",
            "vector 4 : 2 3 4 5 \n",
            "vector 5 : 2 3 4 5"
          ]
        }
      ]
    },
    {
      "cell_type": "code",
      "source": [
        "val <- 0.1\n",
        " list1 <- c(TRUE, 0.1,\"apple\")\n",
        " print (val %in% list1)"
      ],
      "metadata": {
        "colab": {
          "base_uri": "https://localhost:8080/"
        },
        "id": "PZB8Aq2_1ZAM",
        "outputId": "f0c19e27-be86-42a0-b4ff-abe8dabef84f"
      },
      "execution_count": 37,
      "outputs": [
        {
          "output_type": "stream",
          "name": "stdout",
          "text": [
            "[1] TRUE\n"
          ]
        }
      ]
    },
    {
      "cell_type": "code",
      "source": [
        "mat = matrix(c(1,2,3,4,5,6),nrow=2,ncol=3)\n",
        "         print (mat)\n",
        "         print( t(mat))\n",
        "         pro = mat %*% t(mat)\n",
        "         print(pro)"
      ],
      "metadata": {
        "colab": {
          "base_uri": "https://localhost:8080/"
        },
        "id": "QX07_PqC1vu1",
        "outputId": "cfa978fa-6bbe-47d2-95bc-1ef1dc176840"
      },
      "execution_count": 38,
      "outputs": [
        {
          "output_type": "stream",
          "name": "stdout",
          "text": [
            "     [,1] [,2] [,3]\n",
            "[1,]    1    3    5\n",
            "[2,]    2    4    6\n",
            "     [,1] [,2]\n",
            "[1,]    1    2\n",
            "[2,]    3    4\n",
            "[3,]    5    6\n",
            "     [,1] [,2]\n",
            "[1,]   35   44\n",
            "[2,]   44   56\n"
          ]
        }
      ]
    },
    {
      "cell_type": "code",
      "source": [
        "# R program to illustrate\n",
        "# the use of Miscellaneous operators\n",
        "mat <- matrix (1:4, nrow = 1, ncol = 4)\n",
        "print(\"Matrix elements using : \")\n",
        "print(mat)\n",
        "\n",
        "product = mat %*% t(mat)\n",
        "print(\"Product of matrices\")\n",
        "print(product,)\n",
        "cat (\"does 1 exist in prod matrix :\", \"1\" %in% product)"
      ],
      "metadata": {
        "id": "AxzOdP4a1_Sc",
        "outputId": "44966161-3551-4c57-f5ab-7f6cd747c418",
        "colab": {
          "base_uri": "https://localhost:8080/"
        }
      },
      "execution_count": 39,
      "outputs": [
        {
          "output_type": "stream",
          "name": "stdout",
          "text": [
            "[1] \"Matrix elements using : \"\n",
            "     [,1] [,2] [,3] [,4]\n",
            "[1,]    1    2    3    4\n",
            "[1] \"Product of matrices\"\n",
            "     [,1]\n",
            "[1,]   30\n",
            "does 1 exist in prod matrix : FALSE"
          ]
        }
      ]
    },
    {
      "cell_type": "markdown",
      "source": [
        "## Keywords"
      ],
      "metadata": {
        "id": "uu_vdgVZi5dl"
      }
    },
    {
      "cell_type": "code",
      "source": [
        "x <- 5\n",
        "\n",
        "# Check value is less than or greater than 10\n",
        "if(x > 10)\n",
        "{\n",
        "\tprint(paste(x, \"is greater than 10\"))\n",
        "} else\n",
        "{\n",
        "\tprint(paste(x, \"is less than 10\"))\n",
        "}\n"
      ],
      "metadata": {
        "colab": {
          "base_uri": "https://localhost:8080/"
        },
        "id": "PxrHZcf5egEl",
        "outputId": "6445e329-c3f5-475f-b0bc-090ff33204b1"
      },
      "execution_count": 40,
      "outputs": [
        {
          "output_type": "stream",
          "name": "stdout",
          "text": [
            "[1] \"5 is less than 10\"\n"
          ]
        }
      ]
    },
    {
      "cell_type": "code",
      "source": [
        "# R program to demonstrate the use of while loop\n",
        "\n",
        "val = 1\n",
        "\n",
        "# using while loop\n",
        "while (val <= 5 )\n",
        "{\n",
        "\t# statements\n",
        "\tprint(val)\n",
        "\tval = val + 1\n",
        "}\n"
      ],
      "metadata": {
        "colab": {
          "base_uri": "https://localhost:8080/"
        },
        "id": "bIbcmon6e5Us",
        "outputId": "e7ea4549-4371-4419-d1cf-6b1d45b83c17"
      },
      "execution_count": 41,
      "outputs": [
        {
          "output_type": "stream",
          "name": "stdout",
          "text": [
            "[1] 1\n",
            "[1] 2\n",
            "[1] 3\n",
            "[1] 4\n",
            "[1] 5\n"
          ]
        }
      ]
    },
    {
      "cell_type": "code",
      "source": [
        "# R program to demonstrate the use of repeat loop\n",
        "\n",
        "val = 1\n",
        "\n",
        "# using repeat loop\n",
        "repeat\n",
        "{\n",
        "\t# statements\n",
        "\tprint(val)\n",
        "\tval = val + 1\n",
        "\n",
        "\t# checking stop condition\n",
        "\tif(val > 5)\n",
        "\t{\n",
        "\t\t# using break statement\n",
        "\t\t# to terminate the loop\n",
        "\t\tbreak\n",
        "\t}\n",
        "}"
      ],
      "metadata": {
        "colab": {
          "base_uri": "https://localhost:8080/"
        },
        "id": "NLrOzAbnfDh0",
        "outputId": "6dd6288f-7f72-42ba-b554-da4fc20ef1d0"
      },
      "execution_count": 42,
      "outputs": [
        {
          "output_type": "stream",
          "name": "stdout",
          "text": [
            "[1] 1\n",
            "[1] 2\n",
            "[1] 3\n",
            "[1] 4\n",
            "[1] 5\n"
          ]
        }
      ]
    },
    {
      "cell_type": "code",
      "source": [
        "# R program to demonstrate the use of for loop\n",
        "\n",
        "# using for loop\n",
        "for (val in 1:5)\n",
        "{\n",
        "\t# statement\n",
        "\tprint(val)\n",
        "}\n"
      ],
      "metadata": {
        "colab": {
          "base_uri": "https://localhost:8080/"
        },
        "id": "JYFJhEqYfhwK",
        "outputId": "28a7408c-3afc-4f1e-e8f6-39f6b19a50a7"
      },
      "execution_count": 43,
      "outputs": [
        {
          "output_type": "stream",
          "name": "stdout",
          "text": [
            "[1] 1\n",
            "[1] 2\n",
            "[1] 3\n",
            "[1] 4\n",
            "[1] 5\n"
          ]
        }
      ]
    },
    {
      "cell_type": "code",
      "source": [
        "# A simple R function to check\n",
        "# whether x is even or odd\n",
        "\n",
        "evenOdd = function(x){\n",
        "if(x %% 2 == 0)\n",
        "\treturn(\"even\")\n",
        "else\n",
        "\treturn(\"odd\")\n",
        "}\n",
        "\n",
        "print(evenOdd(4))\n",
        "print(evenOdd(3))\n"
      ],
      "metadata": {
        "colab": {
          "base_uri": "https://localhost:8080/"
        },
        "id": "CvbAGWGZfpO1",
        "outputId": "58bfe684-fbaa-4969-a052-d2e2b7f4ea3d"
      },
      "execution_count": 44,
      "outputs": [
        {
          "output_type": "stream",
          "name": "stdout",
          "text": [
            "[1] \"even\"\n",
            "[1] \"odd\"\n"
          ]
        }
      ]
    },
    {
      "cell_type": "code",
      "source": [
        "# R program to illustrate next in for loop\n",
        "\n",
        "val <- 6:11\n",
        "\n",
        "# Loop\n",
        "for (i in val)\n",
        "{\n",
        "\tif (i == 8)\n",
        "\t{\n",
        "\t\t# test expression\n",
        "\t\tnext\n",
        "\t}\n",
        "\tprint(i)\n",
        "}\n"
      ],
      "metadata": {
        "colab": {
          "base_uri": "https://localhost:8080/"
        },
        "id": "fVdIDZBpf6xs",
        "outputId": "35cf50b9-1609-42c6-ab14-0dfae0a0e3e2"
      },
      "execution_count": 45,
      "outputs": [
        {
          "output_type": "stream",
          "name": "stdout",
          "text": [
            "[1] 6\n",
            "[1] 7\n",
            "[1] 9\n",
            "[1] 10\n",
            "[1] 11\n"
          ]
        }
      ]
    },
    {
      "cell_type": "code",
      "source": [
        "# R Break Statement Example\n",
        "a<-1\n",
        "while (a < 10)\n",
        "{\n",
        "\tprint(a)\n",
        "\tif(a == 5)\n",
        "\t\tbreak\n",
        "\ta = a + 1\n",
        "}\n"
      ],
      "metadata": {
        "colab": {
          "base_uri": "https://localhost:8080/"
        },
        "id": "WGaPgBhFgG1C",
        "outputId": "46cdd519-b953-4ee7-847d-cbda0fd69f40"
      },
      "execution_count": 46,
      "outputs": [
        {
          "output_type": "stream",
          "name": "stdout",
          "text": [
            "[1] 1\n",
            "[1] 2\n",
            "[1] 3\n",
            "[1] 4\n",
            "[1] 5\n"
          ]
        }
      ]
    },
    {
      "cell_type": "code",
      "source": [
        "# A simple R program\n",
        "# to illustrate NULL\n",
        "\n",
        "v = as.null(c(1, 2, 3, 4))\n",
        "print(v)"
      ],
      "metadata": {
        "colab": {
          "base_uri": "https://localhost:8080/"
        },
        "id": "LovM-189geSk",
        "outputId": "92c62815-a02b-4fd8-f698-29592d4f6792"
      },
      "execution_count": 47,
      "outputs": [
        {
          "output_type": "stream",
          "name": "stdout",
          "text": [
            "NULL\n"
          ]
        }
      ]
    },
    {
      "cell_type": "code",
      "source": [
        "# A simple R program\n",
        "# to illustrate Inf and NaN\n",
        "\n",
        "# To check Inf\n",
        "x = c(Inf, 2, 3)\n",
        "print(is.finite(x))\n",
        "\n",
        "# To check NaN\n",
        "y = c(1, NaN, 3)\n",
        "print(is.nan(y))"
      ],
      "metadata": {
        "colab": {
          "base_uri": "https://localhost:8080/"
        },
        "id": "uoBShzMGg7V_",
        "outputId": "2a798a7f-bd00-437b-96e8-2467a697fb99"
      },
      "execution_count": 48,
      "outputs": [
        {
          "output_type": "stream",
          "name": "stdout",
          "text": [
            "[1] FALSE  TRUE  TRUE\n",
            "[1] FALSE  TRUE FALSE\n"
          ]
        }
      ]
    },
    {
      "cell_type": "markdown",
      "source": [
        "## Data Types"
      ],
      "metadata": {
        "id": "pG4EnFAChOAR"
      }
    },
    {
      "cell_type": "code",
      "source": [
        "# A simple R program\n",
        "# to illustrate Numeric data type\n",
        "\n",
        "# Assign a decimal value to x\n",
        "x = 5.6\n",
        "\n",
        "# print the class name of variable\n",
        "print(class(x))\n",
        "\n",
        "# print the type of variable\n",
        "print(typeof(x))"
      ],
      "metadata": {
        "colab": {
          "base_uri": "https://localhost:8080/"
        },
        "id": "XyWfBd9shils",
        "outputId": "65b07947-ca86-4335-f90b-acf27cf0b667"
      },
      "execution_count": 49,
      "outputs": [
        {
          "output_type": "stream",
          "name": "stdout",
          "text": [
            "[1] \"numeric\"\n",
            "[1] \"double\"\n"
          ]
        }
      ]
    },
    {
      "cell_type": "code",
      "source": [
        "# A simple R program\n",
        "# to illustrate Numeric data type\n",
        "\n",
        "# Assign a integer value to y\n",
        "y = 5\n",
        "\n",
        "# is y an integer?\n",
        "print(is.integer(y))"
      ],
      "metadata": {
        "colab": {
          "base_uri": "https://localhost:8080/"
        },
        "id": "bMr3U1edhsoJ",
        "outputId": "35b82611-6f4c-4a0d-8120-a0b38198cb5b"
      },
      "execution_count": 50,
      "outputs": [
        {
          "output_type": "stream",
          "name": "stdout",
          "text": [
            "[1] FALSE\n"
          ]
        }
      ]
    },
    {
      "cell_type": "code",
      "source": [
        "# A simple R program\n",
        "# to illustrate integer data type\n",
        "\n",
        "# Create an integer value\n",
        "x = as.integer(5)\n",
        "\n",
        "# print the class name of x\n",
        "print(class(x))\n",
        "\n",
        "# print the type of x\n",
        "print(typeof(x))\n",
        "\n",
        "# Declare an integer by appending an L suffix.\n",
        "y = 5L\n",
        "\n",
        "# print the class name of y\n",
        "print(class(y))\n",
        "\n",
        "# print the type of y\n",
        "print(typeof(y))"
      ],
      "metadata": {
        "colab": {
          "base_uri": "https://localhost:8080/"
        },
        "id": "grF7klGph0Nm",
        "outputId": "c79ca42b-d373-42be-fea5-6d3335bb026a"
      },
      "execution_count": 51,
      "outputs": [
        {
          "output_type": "stream",
          "name": "stdout",
          "text": [
            "[1] \"integer\"\n",
            "[1] \"integer\"\n",
            "[1] \"integer\"\n",
            "[1] \"integer\"\n"
          ]
        }
      ]
    },
    {
      "cell_type": "code",
      "source": [
        "# A simple R program\n",
        "# to illustrate logical data type\n",
        "\n",
        "# Sample values\n",
        "x = 4\n",
        "y = 3\n",
        "\n",
        "# Comparing two values\n",
        "z = x > y\n",
        "\n",
        "# print the logical value\n",
        "print(z)\n",
        "\n",
        "# print the class name of z\n",
        "print(class(z))\n",
        "\n",
        "# print the type of z\n",
        "print(typeof(z))"
      ],
      "metadata": {
        "colab": {
          "base_uri": "https://localhost:8080/"
        },
        "id": "ZK6S-LOLh6yI",
        "outputId": "bda55b47-c6a6-4018-ec18-929b03c8c776"
      },
      "execution_count": 52,
      "outputs": [
        {
          "output_type": "stream",
          "name": "stdout",
          "text": [
            "[1] TRUE\n",
            "[1] \"logical\"\n",
            "[1] \"logical\"\n"
          ]
        }
      ]
    },
    {
      "cell_type": "code",
      "source": [
        "# A simple R program\n",
        "# to illustrate complex data type\n",
        "\n",
        "# Assign a complex value to x\n",
        "x = 4 + 3i\n",
        "\n",
        "# print the class name of x\n",
        "print(class(x))\n",
        "\n",
        "# print the type of x\n",
        "print(typeof(x))"
      ],
      "metadata": {
        "colab": {
          "base_uri": "https://localhost:8080/"
        },
        "id": "AdBO0SwCiANi",
        "outputId": "7e3695d6-1197-419b-8d2f-74c693046d41"
      },
      "execution_count": 53,
      "outputs": [
        {
          "output_type": "stream",
          "name": "stdout",
          "text": [
            "[1] \"complex\"\n",
            "[1] \"complex\"\n"
          ]
        }
      ]
    },
    {
      "cell_type": "code",
      "source": [
        "# A simple R program\n",
        "# to illustrate character data type\n",
        "\n",
        "# Assign a character value to char\n",
        "char = \"Geeksforgeeks\"\n",
        "\n",
        "# print the class name of char\n",
        "print(class(char))\n",
        "\n",
        "# print the type of char\n",
        "print(typeof(char))"
      ],
      "metadata": {
        "colab": {
          "base_uri": "https://localhost:8080/"
        },
        "id": "wQDH5LffiX4o",
        "outputId": "0d492484-1eb6-49be-ac33-6ed6f2df90ad"
      },
      "execution_count": 54,
      "outputs": [
        {
          "output_type": "stream",
          "name": "stdout",
          "text": [
            "[1] \"character\"\n",
            "[1] \"character\"\n"
          ]
        }
      ]
    },
    {
      "cell_type": "code",
      "source": [
        "# Create a raw vector\n",
        "x <- as.raw(c(0x1, 0x2, 0x3, 0x4, 0x5))\n",
        "print(x)"
      ],
      "metadata": {
        "colab": {
          "base_uri": "https://localhost:8080/"
        },
        "id": "ZxM9wOieidRM",
        "outputId": "0f9faf71-8a37-4f48-8ef7-a57cd03c1730"
      },
      "execution_count": 55,
      "outputs": [
        {
          "output_type": "stream",
          "name": "stdout",
          "text": [
            "[1] 01 02 03 04 05\n"
          ]
        }
      ]
    },
    {
      "cell_type": "code",
      "source": [
        "# A simple R program\n",
        "# to find data type of an object\n",
        "\n",
        "# Logical\n",
        "print(class(TRUE))\n",
        "\n",
        "# Integer\n",
        "print(class(3L))\n",
        "\n",
        "# Numeric\n",
        "print(class(10.5))\n",
        "\n",
        "# Complex\n",
        "print(class(1+2i))\n",
        "\n",
        "# Character\n",
        "print(class(\"12-04-2020\"))"
      ],
      "metadata": {
        "colab": {
          "base_uri": "https://localhost:8080/"
        },
        "id": "bNshWYq3ijAG",
        "outputId": "7b4e9b20-8c38-4759-81e2-df495be226c2"
      },
      "execution_count": 56,
      "outputs": [
        {
          "output_type": "stream",
          "name": "stdout",
          "text": [
            "[1] \"logical\"\n",
            "[1] \"integer\"\n",
            "[1] \"numeric\"\n",
            "[1] \"complex\"\n",
            "[1] \"character\"\n"
          ]
        }
      ]
    },
    {
      "cell_type": "code",
      "source": [
        "# A simple R program\n",
        "# Verify if an object is of a certain datatype\n",
        "\n",
        "# Logical\n",
        "print(is.logical(TRUE))\n",
        "\n",
        "# Integer\n",
        "print(is.integer(3L))\n",
        "\n",
        "# Numeric\n",
        "print(is.numeric(10.5))\n",
        "\n",
        "# Complex\n",
        "print(is.complex(1+2i))\n",
        "\n",
        "# Character\n",
        "print(is.character(\"12-04-2020\"))\n",
        "\n",
        "print(is.integer(\"a\"))\n",
        "\n",
        "print(is.numeric(2+3i))"
      ],
      "metadata": {
        "colab": {
          "base_uri": "https://localhost:8080/"
        },
        "id": "l_IdTspBioM7",
        "outputId": "bc7420f9-e490-42d8-b9fd-f4043aa2b9c7"
      },
      "execution_count": 57,
      "outputs": [
        {
          "output_type": "stream",
          "name": "stdout",
          "text": [
            "[1] TRUE\n",
            "[1] TRUE\n",
            "[1] TRUE\n",
            "[1] TRUE\n",
            "[1] TRUE\n",
            "[1] FALSE\n",
            "[1] FALSE\n"
          ]
        }
      ]
    },
    {
      "cell_type": "code",
      "source": [
        "# A simple R program\n",
        "# convert data type of an object to another\n",
        "\n",
        "# Logical\n",
        "print(as.numeric(TRUE))\n",
        "\n",
        "# Integer\n",
        "print(as.complex(3L))\n",
        "\n",
        "# Numeric\n",
        "print(as.logical(10.5))\n",
        "\n",
        "# Complex\n",
        "print(as.character(1+2i))\n",
        "\n",
        "# Can't possible\n",
        "print(as.numeric(\"12-04-2020\"))"
      ],
      "metadata": {
        "colab": {
          "base_uri": "https://localhost:8080/"
        },
        "id": "ZkKC2tBMi0gq",
        "outputId": "fa82bdb6-28a5-4f7c-d942-d5259fa5a57b"
      },
      "execution_count": 58,
      "outputs": [
        {
          "output_type": "stream",
          "name": "stdout",
          "text": [
            "[1] 1\n",
            "[1] 3+0i\n",
            "[1] TRUE\n",
            "[1] \"1+2i\"\n"
          ]
        },
        {
          "output_type": "stream",
          "name": "stderr",
          "text": [
            "Warning message in print(as.numeric(\"12-04-2020\")):\n",
            "“NAs introduced by coercion”\n"
          ]
        },
        {
          "output_type": "stream",
          "name": "stdout",
          "text": [
            "[1] NA\n"
          ]
        }
      ]
    }
  ]
}