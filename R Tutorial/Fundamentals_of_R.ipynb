{
  "nbformat": 4,
  "nbformat_minor": 0,
  "metadata": {
    "colab": {
      "provenance": [],
      "authorship_tag": "ABX9TyMNJJsEn1bnJ6DU5qPapf/b",
      "include_colab_link": true
    },
    "kernelspec": {
      "name": "ir",
      "display_name": "R"
    },
    "language_info": {
      "name": "R"
    }
  },
  "cells": [
    {
      "cell_type": "markdown",
      "metadata": {
        "id": "view-in-github",
        "colab_type": "text"
      },
      "source": [
        "<a href=\"https://colab.research.google.com/github/TahaBerk58/learning-area/blob/main/R%20Tutorial/Fundamentals_of_R.ipynb\" target=\"_parent\"><img src=\"https://colab.research.google.com/assets/colab-badge.svg\" alt=\"Open In Colab\"/></a>"
      ]
    },
    {
      "cell_type": "markdown",
      "source": [
        "# Basic Syntax of R Programming"
      ],
      "metadata": {
        "id": "1o-i5QA2wLxH"
      }
    },
    {
      "cell_type": "code",
      "execution_count": null,
      "metadata": {
        "colab": {
          "base_uri": "https://localhost:8080/"
        },
        "id": "0NVh82nmv6JD",
        "outputId": "a9e18880-1b02-4941-c2d4-873f0ad6bc54"
      },
      "outputs": [
        {
          "output_type": "stream",
          "name": "stdout",
          "text": [
            "[1] \"Hello World\"\n"
          ]
        }
      ],
      "source": [
        "print(\"Hello World\")"
      ]
    },
    {
      "cell_type": "code",
      "source": [
        "var1 = \"Simple Assigment\"\n",
        "var2 <- \"Leftward Assigment\"\n",
        "\"Rightward Assigment\" -> var3\n",
        "print(var1)\n",
        "print(var2)\n",
        "print(var3)"
      ],
      "metadata": {
        "colab": {
          "base_uri": "https://localhost:8080/"
        },
        "id": "q0LLyJbAwnHo",
        "outputId": "04089c0b-4a9a-46da-d069-f3a6a5b4e7ec"
      },
      "execution_count": null,
      "outputs": [
        {
          "output_type": "stream",
          "name": "stdout",
          "text": [
            "[1] \"Simple Assigment\"\n",
            "[1] \"Leftward Assigment\"\n",
            "[1] \"Rightward Assigment\"\n"
          ]
        }
      ]
    },
    {
      "cell_type": "markdown",
      "source": [
        "# Comments in R"
      ],
      "metadata": {
        "id": "94UhXA4JxXTc"
      }
    },
    {
      "cell_type": "code",
      "source": [
        "# Here is the comment line\n",
        "\n",
        "a <- 9\n",
        "b <- 4\n",
        "\n",
        "# Sum of a and b\n",
        "print(a + b)"
      ],
      "metadata": {
        "colab": {
          "base_uri": "https://localhost:8080/"
        },
        "id": "fqX3aRbExXDW",
        "outputId": "2f1791d8-2f3b-481a-8aeb-71c6b5bdde51"
      },
      "execution_count": null,
      "outputs": [
        {
          "output_type": "stream",
          "name": "stdout",
          "text": [
            "[1] 13\n"
          ]
        }
      ]
    },
    {
      "cell_type": "markdown",
      "source": [
        "# R Operators"
      ],
      "metadata": {
        "id": "r-4k-mRTyGpv"
      }
    },
    {
      "cell_type": "code",
      "source": [
        "# R program to illustrate\n",
        "# the use of Arithmetic operators\n",
        "vec1 <- c(0, 2)\n",
        "vec2 <- c(2, 3)\n",
        "\n",
        "# Performing operations on Operands\n",
        "cat (\"Addition of vectors :\", vec1 + vec2, \"\\n\")\n",
        "cat (\"Subtraction of vectors :\", vec1 - vec2, \"\\n\")\n",
        "cat (\"Multiplication of vectors :\", vec1 * vec2, \"\\n\")\n",
        "cat (\"Division of vectors :\", vec1 / vec2, \"\\n\")\n",
        "cat (\"Modulo of vectors :\", vec1 %% vec2, \"\\n\")\n",
        "cat (\"Power operator :\", vec1 ^ vec2)"
      ],
      "metadata": {
        "colab": {
          "base_uri": "https://localhost:8080/"
        },
        "id": "0rAgk7jIyIlW",
        "outputId": "8440ef91-35a1-444d-e1d7-3acb25ea9519"
      },
      "execution_count": null,
      "outputs": [
        {
          "output_type": "stream",
          "name": "stdout",
          "text": [
            "Addition of vectors : 2 5 \n",
            "Subtraction of vectors : -2 -1 \n",
            "Multiplication of vectors : 0 6 \n",
            "Division of vectors : 0 0.6666667 \n",
            "Modulo of vectors : 0 2 \n",
            "Power operator : 0 8"
          ]
        }
      ]
    },
    {
      "cell_type": "code",
      "source": [
        "# Element-wise Logical OR operator (|)\n",
        "# Returns True if either of the operands is True.\n",
        "list1 <- c(TRUE, 0.1)\n",
        "list2 <- c(0,4+3i)\n",
        "print(list1|list2)"
      ],
      "metadata": {
        "colab": {
          "base_uri": "https://localhost:8080/"
        },
        "id": "AzeVI0Tqzo92",
        "outputId": "f1d85f38-18dc-4056-9ad4-a6f619283bed"
      },
      "execution_count": null,
      "outputs": [
        {
          "output_type": "stream",
          "name": "stdout",
          "text": [
            "[1] TRUE TRUE\n"
          ]
        }
      ]
    },
    {
      "cell_type": "code",
      "source": [
        "# R program to illustrate\n",
        "# the use of Logical operators\n",
        "vec1 <- c(0,2)\n",
        "vec2 <- c(TRUE,FALSE)\n",
        "\n",
        "# Performing operations on Operands\n",
        "cat (\"Element wise AND :\", vec1 & vec2, \"\\n\")\n",
        "cat (\"Element wise OR :\", vec1 | vec2, \"\\n\")\n",
        "cat (\"Logical AND :\", vec1[1] && vec2[1], \"\\n\")\n",
        "cat (\"Logical OR :\", vec1[1] || vec2[1], \"\\n\")\n",
        "cat (\"Negation :\", !vec1)"
      ],
      "metadata": {
        "colab": {
          "base_uri": "https://localhost:8080/"
        },
        "id": "0_q-G9xcz1IP",
        "outputId": "629bbef2-d917-4030-bd5c-f7e6d2bb8aa9"
      },
      "execution_count": null,
      "outputs": [
        {
          "output_type": "stream",
          "name": "stdout",
          "text": [
            "Element wise AND : FALSE FALSE \n",
            "Element wise OR : TRUE TRUE \n",
            "Logical AND : FALSE \n",
            "Logical OR : TRUE \n",
            "Negation : TRUE FALSE"
          ]
        }
      ]
    },
    {
      "cell_type": "code",
      "source": [
        "# R program to illustrate\n",
        "# the use of Relational operators\n",
        "vec1 <- c(0, 2)\n",
        "vec2 <- c(2, 3)\n",
        "\n",
        "# Performing operations on Operands\n",
        "cat (\"Vector1 less than Vector2 :\", vec1 < vec2, \"\\n\")\n",
        "cat (\"Vector1 less than equal to Vector2 :\", vec1 <= vec2, \"\\n\")\n",
        "cat (\"Vector1 greater than Vector2 :\", vec1 > vec2, \"\\n\")\n",
        "cat (\"Vector1 greater than equal to Vector2 :\", vec1 >= vec2, \"\\n\")\n",
        "cat (\"Vector1 not equal to Vector2 :\", vec1 != vec2, \"\\n\")"
      ],
      "metadata": {
        "colab": {
          "base_uri": "https://localhost:8080/"
        },
        "id": "fScta6Ip0DQ9",
        "outputId": "7291f5fc-6a69-4277-c1a0-f0cf8b44c1fd"
      },
      "execution_count": null,
      "outputs": [
        {
          "output_type": "stream",
          "name": "stdout",
          "text": [
            "Vector1 less than Vector2 : TRUE TRUE \n",
            "Vector1 less than equal to Vector2 : TRUE TRUE \n",
            "Vector1 greater than Vector2 : FALSE FALSE \n",
            "Vector1 greater than equal to Vector2 : FALSE FALSE \n",
            "Vector1 not equal to Vector2 : TRUE TRUE \n"
          ]
        }
      ]
    },
    {
      "cell_type": "code",
      "source": [
        "# R program to illustrate\n",
        "# the use of Assignment operators\n",
        "vec1 <- c(2:5)\n",
        "c(2:5) ->> vec2\n",
        "vec3 <<- c(2:5)\n",
        "vec4 = c(2:5)\n",
        "c(2:5) -> vec5\n",
        "\n",
        "# Performing operations on Operands\n",
        "cat (\"vector 1 :\", vec1, \"\\n\")\n",
        "cat(\"vector 2 :\", vec2, \"\\n\")\n",
        "cat (\"vector 3 :\", vec3, \"\\n\")\n",
        "cat(\"vector 4 :\", vec4, \"\\n\")\n",
        "cat(\"vector 5 :\", vec5)"
      ],
      "metadata": {
        "colab": {
          "base_uri": "https://localhost:8080/"
        },
        "id": "80HbfkT-1Cob",
        "outputId": "a7a5cdf8-aa77-4519-fa5b-c3ca14623d4c"
      },
      "execution_count": null,
      "outputs": [
        {
          "output_type": "stream",
          "name": "stdout",
          "text": [
            "vector 1 : 2 3 4 5 \n",
            "vector 2 : 2 3 4 5 \n",
            "vector 3 : 2 3 4 5 \n",
            "vector 4 : 2 3 4 5 \n",
            "vector 5 : 2 3 4 5"
          ]
        }
      ]
    },
    {
      "cell_type": "code",
      "source": [
        "val <- 0.1\n",
        " list1 <- c(TRUE, 0.1,\"apple\")\n",
        " print (val %in% list1)"
      ],
      "metadata": {
        "colab": {
          "base_uri": "https://localhost:8080/"
        },
        "id": "PZB8Aq2_1ZAM",
        "outputId": "3750dce1-9b83-46e3-d5ed-43271296cd1c"
      },
      "execution_count": null,
      "outputs": [
        {
          "output_type": "stream",
          "name": "stdout",
          "text": [
            "[1] TRUE\n"
          ]
        }
      ]
    },
    {
      "cell_type": "code",
      "source": [
        "mat = matrix(c(1,2,3,4,5,6),nrow=2,ncol=3)\n",
        "         print (mat)\n",
        "         print( t(mat))\n",
        "         pro = mat %*% t(mat)\n",
        "         print(pro)"
      ],
      "metadata": {
        "colab": {
          "base_uri": "https://localhost:8080/"
        },
        "id": "QX07_PqC1vu1",
        "outputId": "9bc5a67d-e193-4f3a-fc62-cedb8433d3fb"
      },
      "execution_count": null,
      "outputs": [
        {
          "output_type": "stream",
          "name": "stdout",
          "text": [
            "     [,1] [,2] [,3]\n",
            "[1,]    1    3    5\n",
            "[2,]    2    4    6\n",
            "     [,1] [,2]\n",
            "[1,]    1    2\n",
            "[2,]    3    4\n",
            "[3,]    5    6\n",
            "     [,1] [,2]\n",
            "[1,]   35   44\n",
            "[2,]   44   56\n"
          ]
        }
      ]
    },
    {
      "cell_type": "code",
      "source": [
        "# R program to illustrate\n",
        "# the use of Miscellaneous operators\n",
        "mat <- matrix (1:4, nrow = 1, ncol = 4)\n",
        "print(\"Matrix elements using : \")\n",
        "print(mat)\n",
        "\n",
        "product = mat %*% t(mat)\n",
        "print(\"Product of matrices\")\n",
        "print(product,)\n",
        "cat (\"does 1 exist in prod matrix :\", \"1\" %in% product)"
      ],
      "metadata": {
        "id": "AxzOdP4a1_Sc",
        "outputId": "f87005c3-d69e-44dd-ad3c-f12679d91801",
        "colab": {
          "base_uri": "https://localhost:8080/"
        }
      },
      "execution_count": null,
      "outputs": [
        {
          "output_type": "stream",
          "name": "stdout",
          "text": [
            "[1] \"Matrix elements using : \"\n",
            "     [,1] [,2] [,3] [,4]\n",
            "[1,]    1    2    3    4\n",
            "[1] \"Product of matrices\"\n",
            "     [,1]\n",
            "[1,]   30\n",
            "does 1 exist in prod matrix : FALSE"
          ]
        }
      ]
    }
  ]
}