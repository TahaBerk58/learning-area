{
  "nbformat": 4,
  "nbformat_minor": 0,
  "metadata": {
    "colab": {
      "provenance": [],
      "authorship_tag": "ABX9TyP2UAJ8r7T5LPJ8YlFaJFvu",
      "include_colab_link": true
    },
    "kernelspec": {
      "name": "ir",
      "display_name": "R"
    },
    "language_info": {
      "name": "R"
    }
  },
  "cells": [
    {
      "cell_type": "markdown",
      "metadata": {
        "id": "view-in-github",
        "colab_type": "text"
      },
      "source": [
        "<a href=\"https://colab.research.google.com/github/TahaBerk58/learning-area/blob/main/R%20Tutorial/Variables.ipynb\" target=\"_parent\"><img src=\"https://colab.research.google.com/assets/colab-badge.svg\" alt=\"Open In Colab\"/></a>"
      ]
    },
    {
      "cell_type": "markdown",
      "source": [
        "# Introduction to Variables"
      ],
      "metadata": {
        "id": "LrFaEAzSD70s"
      }
    },
    {
      "cell_type": "code",
      "execution_count": 1,
      "metadata": {
        "colab": {
          "base_uri": "https://localhost:8080/"
        },
        "id": "QZCrMSzbDkTK",
        "outputId": "1d7e6cc2-9406-4e6a-d052-2d4495f9d362"
      },
      "outputs": [
        {
          "output_type": "stream",
          "name": "stdout",
          "text": [
            "[1] \"var1\" \"var2\" \"var3\"\n"
          ]
        }
      ],
      "source": [
        "# using equal to operator\n",
        "var1 = \"hello\"\n",
        "\n",
        "# using leftward operator\n",
        "var2 <- \"hello\"\n",
        "\n",
        "# using rightward operator\n",
        "\"hello\" -> var3\n",
        "\n",
        "print(ls())"
      ]
    },
    {
      "cell_type": "code",
      "source": [
        "# using equal to operator\n",
        "var1 = \"hello\"\n",
        "\n",
        "# using leftward operator\n",
        "var2 <- \"hello\"\n",
        "\n",
        "# using rightward operator\n",
        "\"hello\" -> var3\n",
        "\n",
        "# Removing variable\n",
        "rm(var3)\n",
        "print(var3)"
      ],
      "metadata": {
        "colab": {
          "base_uri": "https://localhost:8080/",
          "height": 241
        },
        "id": "dPA_f9jIEThU",
        "outputId": "43477ea4-9ef4-4cbe-f6df-654acdcf96a2"
      },
      "execution_count": 3,
      "outputs": [
        {
          "output_type": "error",
          "ename": "ERROR",
          "evalue": "Error: object 'var3' not found\n",
          "traceback": [
            "Error: object 'var3' not found\nTraceback:\n",
            "1. .handleSimpleError(function (cnd) \n . {\n .     watcher$capture_plot_and_output()\n .     cnd <- sanitize_call(cnd)\n .     watcher$push(cnd)\n .     switch(on_error, continue = invokeRestart(\"eval_continue\"), \n .         stop = invokeRestart(\"eval_stop\"), error = invokeRestart(\"eval_error\", \n .             cnd))\n . }, \"object 'var3' not found\", base::quote(eval(expr, envir)))"
          ]
        }
      ]
    },
    {
      "cell_type": "code",
      "source": [
        "# R program to illustrate\n",
        "# usage of global variables\n",
        "\n",
        "# global variable\n",
        "global = 5\n",
        "\n",
        "# global variable accessed from\n",
        "# within a function\n",
        "display = function(){\n",
        "print(global)\n",
        "}\n",
        "display()\n",
        "\n",
        "# changing value of global variable\n",
        "global = 10\n",
        "display()"
      ],
      "metadata": {
        "colab": {
          "base_uri": "https://localhost:8080/"
        },
        "id": "3mEbBz1CEbPT",
        "outputId": "d71e5411-268e-4468-be04-0a71e208651f"
      },
      "execution_count": 4,
      "outputs": [
        {
          "output_type": "stream",
          "name": "stdout",
          "text": [
            "[1] 5\n",
            "[1] 10\n"
          ]
        }
      ]
    },
    {
      "cell_type": "code",
      "source": [
        "# R program to illustrate\n",
        "# usage of local variables\n",
        "\n",
        "func = function(){\n",
        "# this variable is local to the\n",
        "# function func() and cannot be\n",
        "# accessed outside this function\n",
        "age = 18\n",
        "print(age)\n",
        "}\n",
        "\n",
        "cat(\"Age is:\\n\")\n",
        "func()"
      ],
      "metadata": {
        "colab": {
          "base_uri": "https://localhost:8080/"
        },
        "id": "bq-L8cPBEomR",
        "outputId": "b4f3139b-77d3-4830-8331-63453f043202"
      },
      "execution_count": 5,
      "outputs": [
        {
          "output_type": "stream",
          "name": "stdout",
          "text": [
            "Age is:\n",
            "[1] 18\n"
          ]
        }
      ]
    }
  ]
}