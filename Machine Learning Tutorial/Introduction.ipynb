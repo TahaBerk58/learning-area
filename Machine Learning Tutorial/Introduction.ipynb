{
  "nbformat": 4,
  "nbformat_minor": 0,
  "metadata": {
    "colab": {
      "provenance": [],
      "authorship_tag": "ABX9TyPAf0bye+MlvwfZ+YkpLkrG",
      "include_colab_link": true
    },
    "kernelspec": {
      "name": "python3",
      "display_name": "Python 3"
    },
    "language_info": {
      "name": "python"
    }
  },
  "cells": [
    {
      "cell_type": "markdown",
      "metadata": {
        "id": "view-in-github",
        "colab_type": "text"
      },
      "source": [
        "<a href=\"https://colab.research.google.com/github/TahaBerk58/learning-area/blob/main/Machine%20Learning%20Tutorial/Introduction.ipynb\" target=\"_parent\"><img src=\"https://colab.research.google.com/assets/colab-badge.svg\" alt=\"Open In Colab\"/></a>"
      ]
    },
    {
      "cell_type": "markdown",
      "source": [
        "# Introduction to Data in Machine Learning"
      ],
      "metadata": {
        "id": "xwu2cTT3JUuK"
      }
    },
    {
      "cell_type": "code",
      "execution_count": 2,
      "metadata": {
        "colab": {
          "base_uri": "https://localhost:8080/"
        },
        "id": "q-W7o5USJS2R",
        "outputId": "abf84056-66e4-4a93-cf2e-3a5a6762d9da"
      },
      "outputs": [
        {
          "output_type": "stream",
          "name": "stdout",
          "text": [
            "1\n"
          ]
        }
      ],
      "source": [
        "# Example input data\n",
        "from sklearn.linear_model import LogisticRegression\n",
        "X = [[1, 2], [2, 3], [3, 4], [4, 5], [5, 6]]\n",
        "y = [0, 0, 1, 1, 1]\n",
        "\n",
        "# Train a model\n",
        "model = LogisticRegression()\n",
        "model.fit(X, y)\n",
        "\n",
        "# Make a prediction\n",
        "prediction = model.predict([[6, 7]])[0]\n",
        "print(prediction)"
      ]
    }
  ]
}